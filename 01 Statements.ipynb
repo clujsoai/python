{
  "cells": [
    {
      "metadata": {},
      "cell_type": "markdown",
      "source": "# If/Else/Elif statement"
    },
    {
      "metadata": {},
      "cell_type": "markdown",
      "source": "If statements allow the execution of a block of code if a condition is met. Another block of code can be specified to be executed if the same condition is not met.\n\nRemember that Python doesn’t use curly braces to delimit blocks of code, but the code indentation. Code is much easier to read through, but a bit of extra caution is required when writing it."
    },
    {
      "metadata": {
        "trusted": true
      },
      "cell_type": "code",
      "source": "a = 2",
      "execution_count": 8,
      "outputs": []
    },
    {
      "metadata": {
        "trusted": true
      },
      "cell_type": "code",
      "source": "if a % 2 == 0:\n    print(\"a is even\")\nelse:\n    print(\"a is odd\")",
      "execution_count": 11,
      "outputs": [
        {
          "output_type": "stream",
          "text": "a is even\n",
          "name": "stdout"
        }
      ]
    },
    {
      "metadata": {},
      "cell_type": "markdown",
      "source": "The a % 2 condition is evaluated inside the if statement. \n\nSetting a with the value 2 will make the condition True, which will execute the print('a is even')branch. Otherwise, the print('a is odd')branch is executed, the condition evaluation being false.\n\nThere can be multiple evaluation branches, with the elif statement."
    },
    {
      "metadata": {
        "trusted": true
      },
      "cell_type": "code",
      "source": "age = 9",
      "execution_count": 24,
      "outputs": []
    },
    {
      "metadata": {
        "trusted": true
      },
      "cell_type": "code",
      "source": "if age < 10:\n    print(\"You are a child\")\nelif age < 18:\n    print(\"You are a teenager\")\nelif age < 65:\n    print(\"You are an adult\")\nelse:\n    print(\"You are retired\")",
      "execution_count": 23,
      "outputs": [
        {
          "output_type": "stream",
          "text": "You are retired\n",
          "name": "stdout"
        }
      ]
    },
    {
      "metadata": {},
      "cell_type": "markdown",
      "source": "The condition **age < 10** is evaluated first. If that is true, “You are a child” is displayed. \n\nIf this first condition is false, the condition in the first elif statement, **age < 18**, is evaluated. If true, “You are a teeneager” is displayed.\n\nIf the condition in the first elif is false, the next elif condition is evaluated. If **age < 65** is true, “You are an adult” is displayed.\n\nFinally, if none of the conditions are true, the code in the else block is executed and “You are retired” is displayed.\n"
    },
    {
      "metadata": {},
      "cell_type": "markdown",
      "source": "# For loop\n\nThe for loop iterates over a sequence. With it we can go through all the characters of a string, or the items of a list, or the first n integer numbers."
    },
    {
      "metadata": {},
      "cell_type": "markdown",
      "source": "## Iterating over a string"
    },
    {
      "metadata": {
        "trusted": true
      },
      "cell_type": "code",
      "source": "s = \"Hello World\"",
      "execution_count": 25,
      "outputs": []
    },
    {
      "metadata": {
        "trusted": true
      },
      "cell_type": "code",
      "source": "for letter in s:\n    print(letter)",
      "execution_count": 27,
      "outputs": [
        {
          "output_type": "stream",
          "text": "H\ne\nl\nl\no\n \nW\no\nr\nl\nd\n",
          "name": "stdout"
        }
      ]
    },
    {
      "metadata": {},
      "cell_type": "markdown",
      "source": "With the for loop, we go through every character in the s string. On each iteration, the character value is put inside the letter variable, which we print to the screen. When the for loop is completed, every letter will have been printed to the screen."
    },
    {
      "metadata": {},
      "cell_type": "markdown",
      "source": "## Iterating over a list, set or tuple"
    },
    {
      "metadata": {},
      "cell_type": "markdown",
      "source": "In a very similar fashion we can iterate over a list."
    },
    {
      "metadata": {
        "trusted": true
      },
      "cell_type": "code",
      "source": "l = [1,4,7,9,11,45,879,34435]",
      "execution_count": 28,
      "outputs": []
    },
    {
      "metadata": {
        "trusted": true
      },
      "cell_type": "code",
      "source": "for item in l:\n    print(item)",
      "execution_count": 29,
      "outputs": [
        {
          "output_type": "stream",
          "text": "1\n4\n7\n9\n11\n45\n879\n34435\n",
          "name": "stdout"
        }
      ]
    },
    {
      "metadata": {},
      "cell_type": "markdown",
      "source": "Just like with strings, we go through every element in the list, keep its value in the item variable and print that every iteration."
    },
    {
      "metadata": {},
      "cell_type": "markdown",
      "source": "We can do much more than just printing the value every iteration. For instance, let’s check the value first with an if statement and only print the even values in the list."
    },
    {
      "metadata": {
        "trusted": true
      },
      "cell_type": "code",
      "source": "for item in l:\n    if item % 2 == 0:\n        print(item)",
      "execution_count": 31,
      "outputs": [
        {
          "output_type": "stream",
          "text": "4\n",
          "name": "stdout"
        }
      ]
    },
    {
      "metadata": {},
      "cell_type": "markdown",
      "source": "Using for with sets is the same, the list is just converted to a set first in the below example:"
    },
    {
      "metadata": {
        "trusted": true
      },
      "cell_type": "code",
      "source": "s = set(l)",
      "execution_count": 32,
      "outputs": []
    },
    {
      "metadata": {
        "trusted": true
      },
      "cell_type": "code",
      "source": "for item in s:\n    if item % 2 == 0:\n        print(item)",
      "execution_count": 33,
      "outputs": [
        {
          "output_type": "stream",
          "text": "4\n",
          "name": "stdout"
        }
      ]
    },
    {
      "metadata": {},
      "cell_type": "markdown",
      "source": "And the same if a tuple is defined:"
    },
    {
      "metadata": {
        "trusted": true
      },
      "cell_type": "code",
      "source": "t = ('Monday', 'Tuesday', 'Wednesday', 'Thursday', 'Friday')",
      "execution_count": 34,
      "outputs": []
    },
    {
      "metadata": {
        "trusted": true
      },
      "cell_type": "code",
      "source": "for work_day in t:\n    print(work_day)",
      "execution_count": 35,
      "outputs": [
        {
          "output_type": "stream",
          "text": "Monday\nTuesday\nWednesday\nThursday\nFriday\n",
          "name": "stdout"
        }
      ]
    },
    {
      "metadata": {},
      "cell_type": "markdown",
      "source": "## Iterating over integers"
    },
    {
      "metadata": {},
      "cell_type": "markdown",
      "source": "Sometimes iteration is required over a sequence of integer numbers. For example, let’s iterate over and display the 10 digits. Iteration over a sequence of integer is done using **range()**."
    },
    {
      "metadata": {
        "trusted": true
      },
      "cell_type": "code",
      "source": "for x in range(10):\n    print(x)",
      "execution_count": 37,
      "outputs": [
        {
          "output_type": "stream",
          "text": "0\n1\n2\n3\n4\n5\n6\n7\n8\n9\n",
          "name": "stdout"
        }
      ]
    },
    {
      "metadata": {},
      "cell_type": "markdown",
      "source": "Range yields a sequence of integer starting from 0 (remember Python is 0 indexed) up until, but not including the integer parameter inside range()."
    },
    {
      "metadata": {},
      "cell_type": "markdown",
      "source": "Iterating through a string with range is also possible, using the integers as the character indexes."
    },
    {
      "metadata": {
        "trusted": true
      },
      "cell_type": "code",
      "source": "s = \"Hello World\"",
      "execution_count": 39,
      "outputs": []
    },
    {
      "metadata": {
        "trusted": true
      },
      "cell_type": "code",
      "source": "for i in range(0,len(s)):\n    if s[i] in (\"a\", \"e\", \"i\", \"o\", \"u\"):\n        print(s[i])",
      "execution_count": 40,
      "outputs": [
        {
          "output_type": "stream",
          "text": "e\no\no\n",
          "name": "stdout"
        }
      ]
    },
    {
      "metadata": {},
      "cell_type": "markdown",
      "source": "First we move through the range between 0 and the length of the string. For each character position, we check if that character is in a vowel tuple we constructed. If it is, the condition is true and we print the letter."
    },
    {
      "metadata": {},
      "cell_type": "markdown",
      "source": "# While loop"
    },
    {
      "metadata": {},
      "cell_type": "markdown",
      "source": "The While statement executes a block of code as long as the condition it holds remains true. To get a better understanding, let’s print the 10 digits like in the for example above."
    },
    {
      "metadata": {
        "trusted": true
      },
      "cell_type": "code",
      "source": "x = 0\nwhile x < 10:\n    print(x)\n    x = x + 1",
      "execution_count": 41,
      "outputs": [
        {
          "output_type": "stream",
          "text": "0\n1\n2\n3\n4\n5\n6\n7\n8\n9\n",
          "name": "stdout"
        }
      ]
    },
    {
      "metadata": {},
      "cell_type": "markdown",
      "source": "Since we want to stop after printing 9, the condition is x < 10. Each iteration we increment x by 1 so we can print the next digit. Once x is 10, the condition is false and the loop stops."
    },
    {
      "metadata": {},
      "cell_type": "markdown",
      "source": "An else statement can be added at the end. Its block will execute when the while loop stops."
    },
    {
      "metadata": {
        "trusted": true
      },
      "cell_type": "code",
      "source": "x = 0\nwhile x < 10:\n    print(x)\n    x = x + 1\nelse:\n    print(\"All done\")",
      "execution_count": 42,
      "outputs": [
        {
          "output_type": "stream",
          "text": "0\n1\n2\n3\n4\n5\n6\n7\n8\n9\nAll done\n",
          "name": "stdout"
        }
      ]
    },
    {
      "metadata": {},
      "cell_type": "markdown",
      "source": "To interrupt the current iteration of the loop and continue straight with the next one, the **continue** keyword is used. In the above example, let’s say we want to skip printing 5."
    },
    {
      "metadata": {
        "trusted": true
      },
      "cell_type": "code",
      "source": "x = 0\nwhile x < 10:\n    if x == 5:\n        x = x + 1\n        continue\n    print(x)\n    x = x + 1\nelse:\n    print(\"All done\")",
      "execution_count": 51,
      "outputs": [
        {
          "output_type": "stream",
          "text": "0\n1\n2\n3\n4\n6\n7\n8\n9\nAll done\n",
          "name": "stdout"
        }
      ]
    },
    {
      "metadata": {},
      "cell_type": "markdown",
      "source": "The loop can be entirely stopped, by using the **break** keyword. If we replace continue with break in the above example, the loop stop when reaching break."
    },
    {
      "metadata": {
        "trusted": true
      },
      "cell_type": "code",
      "source": "x = 0\nwhile x < 10:\n    if x == 5:\n        x = x + 1\n        break\n    print(x)\n    x = x + 1\nelse:\n    print(\"All done\")",
      "execution_count": 52,
      "outputs": [
        {
          "output_type": "stream",
          "text": "0\n1\n2\n3\n4\n",
          "name": "stdout"
        }
      ]
    },
    {
      "metadata": {},
      "cell_type": "markdown",
      "source": "One thing to keep in mind about while loops is the danger of infinite loops. It is imperative the condition inside the while statement must be false at some point, otherwise the code will execute forever.\n\nBelow is an obvious example of an infinite loop."
    },
    {
      "metadata": {
        "trusted": true
      },
      "cell_type": "code",
      "source": "if True:\n    print(\"Forever\")",
      "execution_count": null,
      "outputs": []
    }
  ],
  "metadata": {
    "kernelspec": {
      "name": "python36",
      "display_name": "Python 3.6",
      "language": "python"
    },
    "language_info": {
      "mimetype": "text/x-python",
      "nbconvert_exporter": "python",
      "name": "python",
      "pygments_lexer": "ipython3",
      "version": "3.6.6",
      "file_extension": ".py",
      "codemirror_mode": {
        "version": 3,
        "name": "ipython"
      }
    }
  },
  "nbformat": 4,
  "nbformat_minor": 2
}
