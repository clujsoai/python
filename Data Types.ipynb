{
  "cells": [
    {
      "metadata": {
        "collapsed": true
      },
      "cell_type": "markdown",
      "source": "# Strings"
    },
    {
      "metadata": {},
      "cell_type": "markdown",
      "source": "Everything in Python is 0 indexed.\n\nPython comes with common string methods."
    },
    {
      "metadata": {},
      "cell_type": "markdown",
      "source": "**upper()** makes all letters in a string uppercase"
    },
    {
      "metadata": {
        "trusted": true
      },
      "cell_type": "code",
      "source": "s = \"Hello World\"\nprint(s.upper())",
      "execution_count": 45,
      "outputs": [
        {
          "output_type": "stream",
          "text": "HELLO WORLD\n",
          "name": "stdout"
        }
      ]
    },
    {
      "metadata": {},
      "cell_type": "markdown",
      "source": "**lower()** makes all letters in a string lowercase"
    },
    {
      "metadata": {
        "trusted": true
      },
      "cell_type": "code",
      "source": "s = \"Hello World\"\nprint(s.lower())",
      "execution_count": 2,
      "outputs": [
        {
          "output_type": "stream",
          "text": "hello world\n",
          "name": "stdout"
        }
      ]
    },
    {
      "metadata": {},
      "cell_type": "markdown",
      "source": "The **split()** method splits the string after the parameter string and return a list of items"
    },
    {
      "metadata": {
        "trusted": true
      },
      "cell_type": "code",
      "source": "s = \"Hello World it is me!\"\nprint(s.split(\" \"))",
      "execution_count": 3,
      "outputs": [
        {
          "output_type": "stream",
          "text": "['Hello', 'World', 'it', 'is', 'me!']\n",
          "name": "stdout"
        }
      ]
    },
    {
      "metadata": {
        "trusted": true
      },
      "cell_type": "code",
      "source": "s = \"Hello World it is me!\"\nprint(s.split(\"o\"))",
      "execution_count": 4,
      "outputs": [
        {
          "output_type": "stream",
          "text": "['Hell', ' W', 'rld it is me!']\n",
          "name": "stdout"
        }
      ]
    },
    {
      "metadata": {},
      "cell_type": "markdown",
      "source": "The length of a string is returned by the **len** method which can be used for lists, dictionaries and sets as well, so it’s not a string specific method."
    },
    {
      "metadata": {
        "trusted": true
      },
      "cell_type": "code",
      "source": "s = \"Hello World\"\nprint(len(s))",
      "execution_count": 5,
      "outputs": [
        {
          "output_type": "stream",
          "text": "11\n",
          "name": "stdout"
        }
      ]
    },
    {
      "metadata": {},
      "cell_type": "markdown",
      "source": "Strings can be formatted with dynamic information inside the print statement with the **format** method."
    },
    {
      "metadata": {
        "trusted": true
      },
      "cell_type": "code",
      "source": "my_steps = 10000\nprint(\"I have walked {} steps today\".format(my_steps))",
      "execution_count": 7,
      "outputs": [
        {
          "output_type": "stream",
          "text": "I have walked 10000 steps today\n",
          "name": "stdout"
        }
      ]
    },
    {
      "metadata": {},
      "cell_type": "markdown",
      "source": "String slicing is done with \"**:**\". This returns a portion of the string. The slicing operation doesn’t affect the original string, it just returns a portion of it.\n"
    },
    {
      "metadata": {},
      "cell_type": "markdown",
      "source": "Everything after the first two characters"
    },
    {
      "metadata": {
        "trusted": true
      },
      "cell_type": "code",
      "source": "s = \"Hello World\"\nprint(s[2:])",
      "execution_count": 8,
      "outputs": [
        {
          "output_type": "stream",
          "text": "llo World\n",
          "name": "stdout"
        }
      ]
    },
    {
      "metadata": {},
      "cell_type": "markdown",
      "source": "Everything until the fourth character"
    },
    {
      "metadata": {
        "trusted": true
      },
      "cell_type": "code",
      "source": "s = \"Hello World\"\nprint(s[:3])",
      "execution_count": 9,
      "outputs": [
        {
          "output_type": "stream",
          "text": "Hel\n",
          "name": "stdout"
        }
      ]
    },
    {
      "metadata": {},
      "cell_type": "markdown",
      "source": "All characters in an interval, from the second until the fifth character"
    },
    {
      "metadata": {
        "trusted": true
      },
      "cell_type": "code",
      "source": "s = \"Hello World\"\nprint(s[1:4])",
      "execution_count": 10,
      "outputs": [
        {
          "output_type": "stream",
          "text": "ell\n",
          "name": "stdout"
        }
      ]
    },
    {
      "metadata": {},
      "cell_type": "markdown",
      "source": "Slicing can be done from the end of the string using negative indexes. The -1 index returns the last character in the string."
    },
    {
      "metadata": {
        "trusted": true
      },
      "cell_type": "code",
      "source": "print(s[-1])",
      "execution_count": 11,
      "outputs": [
        {
          "output_type": "stream",
          "text": "d\n",
          "name": "stdout"
        }
      ]
    },
    {
      "metadata": {},
      "cell_type": "markdown",
      "source": "Concatenation is done via the **+** operator"
    },
    {
      "metadata": {
        "trusted": true
      },
      "cell_type": "code",
      "source": "first_string = \"Hello\"\nsecond_string = \"World\"\nprint (first_string + second_string)",
      "execution_count": 14,
      "outputs": [
        {
          "output_type": "stream",
          "text": "HelloWorld\n",
          "name": "stdout"
        }
      ]
    },
    {
      "metadata": {},
      "cell_type": "markdown",
      "source": "Strings are immutable, so you can’t change individual characters. The below example will prompt an error."
    },
    {
      "metadata": {
        "trusted": true
      },
      "cell_type": "code",
      "source": "s = \"Hello World\"\ns[2] = \"a\"",
      "execution_count": 15,
      "outputs": [
        {
          "output_type": "error",
          "ename": "TypeError",
          "evalue": "'str' object does not support item assignment",
          "traceback": [
            "\u001b[0;31m---------------------------------------------------------------------------\u001b[0m",
            "\u001b[0;31mTypeError\u001b[0m                                 Traceback (most recent call last)",
            "\u001b[0;32m<ipython-input-15-1a852becf369>\u001b[0m in \u001b[0;36m<module>\u001b[0;34m\u001b[0m\n\u001b[1;32m      1\u001b[0m \u001b[0ms\u001b[0m \u001b[0;34m=\u001b[0m \u001b[0;34m\"Hello World\"\u001b[0m\u001b[0;34m\u001b[0m\u001b[0m\n\u001b[0;32m----> 2\u001b[0;31m \u001b[0ms\u001b[0m\u001b[0;34m[\u001b[0m\u001b[0;36m2\u001b[0m\u001b[0;34m]\u001b[0m \u001b[0;34m=\u001b[0m \u001b[0;34m\"a\"\u001b[0m\u001b[0;34m\u001b[0m\u001b[0m\n\u001b[0m",
            "\u001b[0;31mTypeError\u001b[0m: 'str' object does not support item assignment"
          ]
        }
      ]
    },
    {
      "metadata": {},
      "cell_type": "markdown",
      "source": "# Lists"
    },
    {
      "metadata": {},
      "cell_type": "markdown",
      "source": "A List can contain items of different data types. The list below is valid."
    },
    {
      "metadata": {
        "trusted": true
      },
      "cell_type": "code",
      "source": "my_list = [1, \"two\", 3]",
      "execution_count": 16,
      "outputs": []
    },
    {
      "metadata": {},
      "cell_type": "markdown",
      "source": "Indexing works the same as with strings (0 indexed):"
    },
    {
      "metadata": {
        "trusted": true
      },
      "cell_type": "code",
      "source": "print(my_list[1])",
      "execution_count": 17,
      "outputs": [
        {
          "output_type": "stream",
          "text": "two\n",
          "name": "stdout"
        }
      ]
    },
    {
      "metadata": {},
      "cell_type": "markdown",
      "source": "The len function returns how many elements are in the list"
    },
    {
      "metadata": {
        "trusted": true
      },
      "cell_type": "code",
      "source": "print(len(my_list))",
      "execution_count": 18,
      "outputs": [
        {
          "output_type": "stream",
          "text": "3\n",
          "name": "stdout"
        }
      ]
    },
    {
      "metadata": {},
      "cell_type": "markdown",
      "source": "Slicing works the same as for strings"
    },
    {
      "metadata": {
        "trusted": true
      },
      "cell_type": "code",
      "source": "print(my_list[1:])",
      "execution_count": 19,
      "outputs": [
        {
          "output_type": "stream",
          "text": "['two', 3]\n",
          "name": "stdout"
        }
      ]
    },
    {
      "metadata": {
        "trusted": true
      },
      "cell_type": "code",
      "source": "print(my_list[:2])",
      "execution_count": 20,
      "outputs": [
        {
          "output_type": "stream",
          "text": "[1, 'two']\n",
          "name": "stdout"
        }
      ]
    },
    {
      "metadata": {},
      "cell_type": "markdown",
      "source": "To create a list with a repeating element use the * operator"
    },
    {
      "metadata": {
        "trusted": true
      },
      "cell_type": "code",
      "source": "initial_list = [0] * 5\nprint(initial_list)",
      "execution_count": 21,
      "outputs": [
        {
          "output_type": "stream",
          "text": "[0, 0, 0, 0, 0]\n",
          "name": "stdout"
        }
      ]
    },
    {
      "metadata": {},
      "cell_type": "markdown",
      "source": "To add a new item to the list, use the **append** method"
    },
    {
      "metadata": {
        "trusted": true
      },
      "cell_type": "code",
      "source": "my_list = [1, 2, 3]\nmy_list.append(\"four\")\nprint(my_list)",
      "execution_count": 22,
      "outputs": [
        {
          "output_type": "stream",
          "text": "[1, 2, 3, 'four']\n",
          "name": "stdout"
        }
      ]
    },
    {
      "metadata": {},
      "cell_type": "markdown",
      "source": "To extract the last element in the list, use the **pop** method. This will remove the item from the list."
    },
    {
      "metadata": {
        "trusted": true
      },
      "cell_type": "code",
      "source": "element = my_list.pop()\nprint(element)",
      "execution_count": 23,
      "outputs": [
        {
          "output_type": "stream",
          "text": "four\n",
          "name": "stdout"
        }
      ]
    },
    {
      "metadata": {},
      "cell_type": "markdown",
      "source": "Specifying an index will return the element at that position in the list"
    },
    {
      "metadata": {
        "trusted": true
      },
      "cell_type": "code",
      "source": "element = my_list.pop(0)\nprint(element)",
      "execution_count": 24,
      "outputs": [
        {
          "output_type": "stream",
          "text": "1\n",
          "name": "stdout"
        }
      ]
    },
    {
      "metadata": {},
      "cell_type": "markdown",
      "source": "Everytime pop is used, the list loses that element."
    },
    {
      "metadata": {
        "trusted": true
      },
      "cell_type": "code",
      "source": "print(my_list)",
      "execution_count": 25,
      "outputs": [
        {
          "output_type": "stream",
          "text": "[2, 3]\n",
          "name": "stdout"
        }
      ]
    },
    {
      "metadata": {},
      "cell_type": "markdown",
      "source": "The **sort** method sorts the elements within the list. Just as pop, the sort method changes the list."
    },
    {
      "metadata": {
        "trusted": true
      },
      "cell_type": "code",
      "source": "my_list = [1, 5, 8, 3, 9, 0]\nmy_list.sort()\nprint(my_list)",
      "execution_count": 26,
      "outputs": [
        {
          "output_type": "stream",
          "text": "[0, 1, 3, 5, 8, 9]\n",
          "name": "stdout"
        }
      ]
    },
    {
      "metadata": {},
      "cell_type": "markdown",
      "source": "As the name suggests, the reverse method reverses the list element order."
    },
    {
      "metadata": {
        "trusted": true
      },
      "cell_type": "code",
      "source": "my_list = [1, 5, 8, 3, 9, 0]\nmy_list.reverse()\nprint(my_list)",
      "execution_count": 27,
      "outputs": [
        {
          "output_type": "stream",
          "text": "[0, 9, 3, 8, 5, 1]\n",
          "name": "stdout"
        }
      ]
    },
    {
      "metadata": {},
      "cell_type": "markdown",
      "source": "# Dictionaries"
    },
    {
      "metadata": {},
      "cell_type": "markdown",
      "source": "A dictionary is a key-value data structure, where a value is stored at a location which is accessible by calling the associated key."
    },
    {
      "metadata": {
        "trusted": true
      },
      "cell_type": "code",
      "source": "my_info = {}\nmy_info['name'] = \"John Doe\"\nmy_info['age'] = 30\nprint(my_info)",
      "execution_count": 30,
      "outputs": [
        {
          "output_type": "stream",
          "text": "{'name': 'John Doe', 'age': 30}\n",
          "name": "stdout"
        }
      ]
    },
    {
      "metadata": {
        "trusted": true
      },
      "cell_type": "code",
      "source": "print(my_info['name'])",
      "execution_count": 31,
      "outputs": [
        {
          "output_type": "stream",
          "text": "John Doe\n",
          "name": "stdout"
        }
      ]
    },
    {
      "metadata": {
        "trusted": true
      },
      "cell_type": "code",
      "source": "print(my_info['age'])",
      "execution_count": 32,
      "outputs": [
        {
          "output_type": "stream",
          "text": "30\n",
          "name": "stdout"
        }
      ]
    },
    {
      "metadata": {},
      "cell_type": "markdown",
      "source": "Dictionary can \"house\" any data type in a key, for example a list."
    },
    {
      "metadata": {
        "trusted": true
      },
      "cell_type": "code",
      "source": "my_info['pets'] = [\"dog\", \"cat\", \"parrot\"]",
      "execution_count": 33,
      "outputs": []
    },
    {
      "metadata": {},
      "cell_type": "markdown",
      "source": "All data types in a dictionary retain their properties and methods. We use the upper() method on the string at index 1 in the list."
    },
    {
      "metadata": {
        "trusted": true
      },
      "cell_type": "code",
      "source": "print(my_info['pets'][1].upper())",
      "execution_count": 34,
      "outputs": [
        {
          "output_type": "stream",
          "text": "CAT\n",
          "name": "stdout"
        }
      ]
    },
    {
      "metadata": {},
      "cell_type": "markdown",
      "source": "# Sets"
    },
    {
      "metadata": {},
      "cell_type": "markdown",
      "source": "A Set is an unordered collection of unique elements."
    },
    {
      "metadata": {},
      "cell_type": "markdown",
      "source": "To initialize a set we use **set()** and add elements to it with the **add()** method."
    },
    {
      "metadata": {
        "trusted": true
      },
      "cell_type": "code",
      "source": "my_set = set()\nmy_set.add(1)\nmy_set.add(2)\nprint(my_set)",
      "execution_count": 35,
      "outputs": [
        {
          "output_type": "stream",
          "text": "{1, 2}\n",
          "name": "stdout"
        }
      ]
    },
    {
      "metadata": {},
      "cell_type": "markdown",
      "source": "We can easily transform a list into a set. The process will eliminate any duplicate elements."
    },
    {
      "metadata": {
        "trusted": true
      },
      "cell_type": "code",
      "source": "my_list = [1, 1, 1, 2, 2, 3, 4, 5, 6, 6]\nmy_set = set(my_list)\nprint(my_set)",
      "execution_count": 36,
      "outputs": [
        {
          "output_type": "stream",
          "text": "{1, 2, 3, 4, 5, 6}\n",
          "name": "stdout"
        }
      ]
    },
    {
      "metadata": {},
      "cell_type": "markdown",
      "source": "The unordered aspect of this data type is visible when printing an entire set. Different print statements will show the set’s elements in different orders each time."
    },
    {
      "metadata": {},
      "cell_type": "markdown",
      "source": "# Tuples"
    },
    {
      "metadata": {},
      "cell_type": "markdown",
      "source": "Tuples are very similar to lists, with one key distinction: they are immutable, so they can’t be changed. They are used to keep data that shouldn’t change, such as days in the week."
    },
    {
      "metadata": {
        "trusted": true
      },
      "cell_type": "code",
      "source": "my_tuple = (1, 2, \"three\")",
      "execution_count": 40,
      "outputs": []
    },
    {
      "metadata": {},
      "cell_type": "markdown",
      "source": "Indexing, slicing and length work the same way as for lists."
    },
    {
      "metadata": {
        "trusted": true
      },
      "cell_type": "code",
      "source": "print(len(my_tuple))",
      "execution_count": 41,
      "outputs": [
        {
          "output_type": "stream",
          "text": "3\n",
          "name": "stdout"
        }
      ]
    },
    {
      "metadata": {
        "trusted": true
      },
      "cell_type": "code",
      "source": "print(my_tuple[0])",
      "execution_count": 42,
      "outputs": [
        {
          "output_type": "stream",
          "text": "1\n",
          "name": "stdout"
        }
      ]
    },
    {
      "metadata": {
        "trusted": true
      },
      "cell_type": "code",
      "source": "print(my_tuple[:2])",
      "execution_count": 43,
      "outputs": [
        {
          "output_type": "stream",
          "text": "(1, 2)\n",
          "name": "stdout"
        }
      ]
    },
    {
      "metadata": {},
      "cell_type": "markdown",
      "source": "Being immutable, any change attempt will output an error."
    },
    {
      "metadata": {
        "trusted": true
      },
      "cell_type": "code",
      "source": "my_tuple[0] = 9",
      "execution_count": 44,
      "outputs": [
        {
          "output_type": "error",
          "ename": "TypeError",
          "evalue": "'tuple' object does not support item assignment",
          "traceback": [
            "\u001b[0;31m---------------------------------------------------------------------------\u001b[0m",
            "\u001b[0;31mTypeError\u001b[0m                                 Traceback (most recent call last)",
            "\u001b[0;32m<ipython-input-44-526aede43f7e>\u001b[0m in \u001b[0;36m<module>\u001b[0;34m\u001b[0m\n\u001b[0;32m----> 1\u001b[0;31m \u001b[0mmy_tuple\u001b[0m\u001b[0;34m[\u001b[0m\u001b[0;36m0\u001b[0m\u001b[0;34m]\u001b[0m \u001b[0;34m=\u001b[0m \u001b[0;36m9\u001b[0m\u001b[0;34m\u001b[0m\u001b[0m\n\u001b[0m",
            "\u001b[0;31mTypeError\u001b[0m: 'tuple' object does not support item assignment"
          ]
        }
      ]
    },
    {
      "metadata": {
        "trusted": true
      },
      "cell_type": "code",
      "source": "",
      "execution_count": null,
      "outputs": []
    }
  ],
  "metadata": {
    "kernelspec": {
      "name": "python36",
      "display_name": "Python 3.6",
      "language": "python"
    },
    "language_info": {
      "mimetype": "text/x-python",
      "nbconvert_exporter": "python",
      "name": "python",
      "pygments_lexer": "ipython3",
      "version": "3.6.6",
      "file_extension": ".py",
      "codemirror_mode": {
        "version": 3,
        "name": "ipython"
      }
    }
  },
  "nbformat": 4,
  "nbformat_minor": 2
}