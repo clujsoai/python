{
  "cells": [
    {
      "metadata": {
        "collapsed": true
      },
      "cell_type": "markdown",
      "source": "# List comprehensions"
    },
    {
      "metadata": {},
      "cell_type": "markdown",
      "source": "The previous posts in this Python Primer series dealt with general concepts that are pretty much part of any programming language. We started with data types, then took a look at statements and in the last post functions and objects were covered.\n\nIn this post we’ll tackle a topic that is more “pythonic” in nature - List comprehensions."
    },
    {
      "metadata": {},
      "cell_type": "markdown",
      "source": "## Concept"
    },
    {
      "metadata": {},
      "cell_type": "markdown",
      "source": "List comprehensions are all about making the code shorter and easier to read. When working with lists, they essentially allow for a block of code that would take several lines to be condensed to a one-liner.\n\nSo, when creating a list, we can generally do it in a single line. Let’s see a simple example of this.\n\nWe have a list with numbers and we want to make another list based on that. Although this example is not practical, it illustrated what list comprehensions are. To see the difference and why comprehensions are useful, first block code will show how we would do this “the old fashioned way”.\n"
    },
    {
      "metadata": {
        "trusted": true
      },
      "cell_type": "code",
      "source": "initial_list = [2, 7, 27, 28, 44, 49, 63, 64, 84, 100]\n\nnew_list = []\n\nfor nr in initial_list:\n    new_list.append(nr)\n    \nprint(new_list)",
      "execution_count": 1,
      "outputs": [
        {
          "output_type": "stream",
          "text": "[2, 7, 27, 28, 44, 49, 63, 64, 84, 100]\n",
          "name": "stdout"
        }
      ]
    },
    {
      "metadata": {},
      "cell_type": "markdown",
      "source": "In the above code, we went through each item of the initia_list in the for loop and append each one to the new_list.\n\nUsing list comprehensions, we can do this in more elegant, one line:"
    },
    {
      "metadata": {
        "trusted": true
      },
      "cell_type": "code",
      "source": "initial_list = [2, 7, 27, 28, 44, 49, 63, 64, 84, 100]\n\nnew_list = [nr for nr in initial_list]\n\nprint(new_list)",
      "execution_count": 2,
      "outputs": [
        {
          "output_type": "stream",
          "text": "[2, 7, 27, 28, 44, 49, 63, 64, 84, 100]\n",
          "name": "stdout"
        }
      ]
    },
    {
      "metadata": {},
      "cell_type": "markdown",
      "source": "Let’s break everything down:\n\n1. The new_list variable is created, the square brackets indicating it’s a list. In the list comprehension version, there is no need to declare it as an empty list first.\n2. We iterate over the initial list in the for loop. The loop is also inside the list comprehension\n3. The current element in the iteration is added in the new_list. In the classic version, the append method must be used. In the list comprehension version, it’s enough to simply use the variable name, since list comprehensions automatically creates the list.\n\nHopefully the concept of list comprehension is clearer now, both how it works and why it’s preferable to do it all in a single line. But it wouldn’t be that useful if we could only copy elements from one list to another.\n"
    },
    {
      "metadata": {},
      "cell_type": "markdown",
      "source": "## Changing variable value\n\nLet’s take the same example list as before, but instead populate the new list with the squares of the original list."
    },
    {
      "metadata": {
        "trusted": true
      },
      "cell_type": "code",
      "source": "initial_list = [2, 7, 27, 28, 44, 49, 63, 64, 84, 100]\n\nnew_list = []\n\nfor nr in initial_list:\n    new_list.append(nr**2)\n    \nprint(new_list)",
      "execution_count": 3,
      "outputs": [
        {
          "output_type": "stream",
          "text": "[4, 49, 729, 784, 1936, 2401, 3969, 4096, 7056, 10000]\n",
          "name": "stdout"
        }
      ]
    },
    {
      "metadata": {},
      "cell_type": "markdown",
      "source": "With list comprehension we do it in a single line."
    },
    {
      "metadata": {
        "trusted": true
      },
      "cell_type": "code",
      "source": "initial_list = [2, 7, 27, 28, 44, 49, 63, 64, 84, 100]\n\nnew_list = [nr**2 for nr in initial_list]\n\nprint(new_list)",
      "execution_count": 4,
      "outputs": [
        {
          "output_type": "stream",
          "text": "[4, 49, 729, 784, 1936, 2401, 3969, 4096, 7056, 10000]\n",
          "name": "stdout"
        }
      ]
    },
    {
      "metadata": {},
      "cell_type": "markdown",
      "source": "This example shows we can change the element inside a list comprehension, just like we could inside a regular for loop.\n"
    },
    {
      "metadata": {},
      "cell_type": "markdown",
      "source": "## Adding an if statement\n\nLet’s presume we want to have all the squares of numbers in the original list, but only if they are even numbers. The conditional if is needed for this. Fortunately, it can be used inside a list comprehension."
    },
    {
      "metadata": {
        "trusted": true
      },
      "cell_type": "code",
      "source": "initial_list = [2, 7, 27, 28, 44, 49, 63, 64, 84, 100]\n\nnew_list = []\n\nfor nr in initial_list:\n    if nr % 2 == 0:\n        new_list.append(nr**2)\n    \nprint(new_list)",
      "execution_count": 6,
      "outputs": [
        {
          "output_type": "stream",
          "text": "[4, 784, 1936, 4096, 7056, 10000]\n",
          "name": "stdout"
        }
      ]
    },
    {
      "metadata": {},
      "cell_type": "markdown",
      "source": "With list comprehension, the example looks like this:"
    },
    {
      "metadata": {
        "trusted": true
      },
      "cell_type": "code",
      "source": "initial_list = [2, 7, 27, 28, 44, 49, 63, 64, 84, 100]\n\nnew_list = [nr**2 for nr in initial_list if nr % 2 == 0]\n\nprint(new_list)",
      "execution_count": 7,
      "outputs": [
        {
          "output_type": "stream",
          "text": "[4, 784, 1936, 4096, 7056, 10000]\n",
          "name": "stdout"
        }
      ]
    },
    {
      "metadata": {},
      "cell_type": "markdown",
      "source": "Breakdown time again: \n\n1. The new_list variable is created, the square brackets indicating it’s a list. In the list comprehension version, there is no need to declare it as an empty list first.\n2. We iterate over the initial list in the for loop. The loop is also inside the list comprehension\n3. If the number is even, we append it to the list. In the comprehension version, the if statement is after the for statement\n4. The current element in the iteration is added in the new_list. In the classic version, the append method must be used. In the list comprehension version, it’s enough to simply use the variable name, since list comprehensions automatically creates the list.\n"
    },
    {
      "metadata": {},
      "cell_type": "markdown",
      "source": "## Using multiple variables\n\nList comprehension can also be used with multiple for loops. To illustrate this, let’s say we want to generate all point coordinates in a 2D space between 0 and 4."
    },
    {
      "metadata": {
        "trusted": true
      },
      "cell_type": "code",
      "source": "coord_list = []\n\nfor x in range(4):\n    for y in range(4):\n        coord_list.append((x,y))\n\nprint(coord_list)",
      "execution_count": 11,
      "outputs": [
        {
          "output_type": "stream",
          "text": "[(0, 0), (0, 1), (0, 2), (0, 3), (1, 0), (1, 1), (1, 2), (1, 3), (2, 0), (2, 1), (2, 2), (2, 3), (3, 0), (3, 1), (3, 2), (3, 3)]\n",
          "name": "stdout"
        }
      ]
    },
    {
      "metadata": {},
      "cell_type": "markdown",
      "source": "The list comprehension version of this example looks like this:"
    },
    {
      "metadata": {
        "trusted": true
      },
      "cell_type": "code",
      "source": "coord_list = [(x,y) for x in range(4) for y in range(4)]\n\nprint(coord_list)",
      "execution_count": 10,
      "outputs": [
        {
          "output_type": "stream",
          "text": "[(0, 0), (0, 1), (0, 2), (0, 3), (1, 0), (1, 1), (1, 2), (1, 3), (2, 0), (2, 1), (2, 2), (2, 3), (3, 0), (3, 1), (3, 2), (3, 3)]\n",
          "name": "stdout"
        }
      ]
    },
    {
      "metadata": {},
      "cell_type": "markdown",
      "source": "Let’s break down this final example as well:\n\n1. The coord_list variable is created, the square brackets indicating it’s a list. In the list comprehension version, there is no need to declare it as an empty list first.\n2. We iterate over over range(4) and keep each iteration in the x variable which accounts for the first coordinate value\n3. We iterate over over range(4) and keep each iteration in the y variable which accounts for the second coordinate value. The for loops order is preserved in the list comprehension\n4. We append a tuple of the current iteration of x and y (x, y) to the list. Inside the list comprehension we write the tuple as is, without the need for the append method\n"
    },
    {
      "metadata": {},
      "cell_type": "markdown",
      "source": "## Conclusion\n\nList comprehensions are very useful when writing Python code and a must for any Python developer. There is a caveat however, as some developers tend to over use them and end up with a one line that is too complex to read through, which is exactly against the purpose list comprehensions exist in the first place.\n\nSo use them well and use them often at your own judgement but don’t sacrifice readability for the cool factor.\n\nThe previous post seemed too long so this won’t be the last post in the Python Primer series after all… The next one will cover lambda functions and where to use them."
    },
    {
      "metadata": {
        "trusted": true
      },
      "cell_type": "code",
      "source": "",
      "execution_count": null,
      "outputs": []
    }
  ],
  "metadata": {
    "kernelspec": {
      "name": "python36",
      "display_name": "Python 3.6",
      "language": "python"
    },
    "language_info": {
      "mimetype": "text/x-python",
      "nbconvert_exporter": "python",
      "name": "python",
      "pygments_lexer": "ipython3",
      "version": "3.6.6",
      "file_extension": ".py",
      "codemirror_mode": {
        "version": 3,
        "name": "ipython"
      }
    }
  },
  "nbformat": 4,
  "nbformat_minor": 2
}