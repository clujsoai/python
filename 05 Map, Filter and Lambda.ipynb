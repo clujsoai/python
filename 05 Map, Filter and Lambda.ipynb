{
  "cells": [
    {
      "metadata": {
        "collapsed": true
      },
      "cell_type": "markdown",
      "source": "# Map, Filter and Lambda functions"
    },
    {
      "metadata": {},
      "cell_type": "markdown",
      "source": "Hello World,\n\nTwo posts ago in the Python Primer series, we saw how Python functions work. Essentially, functions are a way for us to keep reusing the same code without having to duplicate it. Today we’ll extend that by learning about the Map and Filter functions, which allows us to “apply” a function to a Python iterable, such as a list."
    },
    {
      "metadata": {},
      "cell_type": "markdown",
      "source": "## The map function\n\nThe Map function allows to have a function quickly be applied to all the elements of an iterable object, like a list.\n\nLet’s see how this works by having a simple function that returns the square of a number and use the map function to call it for every item of a list.\n\nThe map function call looks like this: map(function_name,iterable_variable)"
    },
    {
      "metadata": {
        "trusted": true
      },
      "cell_type": "code",
      "source": "def square(nr):\n    return nr**2\n\nnumbers = [2, 5, 6, 7, 13, 18, 20]\n\nsquared_numbers = list(map(square,numbers))\n\nprint(numbers)\nprint(squared_numbers)",
      "execution_count": 2,
      "outputs": [
        {
          "output_type": "stream",
          "text": "[2, 5, 6, 7, 13, 18, 20]\n[4, 25, 36, 49, 169, 324, 400]\n",
          "name": "stdout"
        }
      ]
    },
    {
      "metadata": {},
      "cell_type": "markdown",
      "source": "Please note that the output of map was transformed into a list in the above example.\n\nWe don’t need to specify an argument for the square function inside map. In fact, the square function is itself an argument for the map function, just like the numbers list is.\n\nAnother example, say we have a list of words and we want to have the length of each. We can use the **len** function inside map."
    },
    {
      "metadata": {
        "trusted": true
      },
      "cell_type": "code",
      "source": "words = ['Here', 'are', 'some', 'random', 'words', 'for', 'our', 'example']\n\nwords_length = list(map(len,words))\n\nprint(words_length)",
      "execution_count": 3,
      "outputs": [
        {
          "output_type": "stream",
          "text": "[4, 3, 4, 6, 5, 3, 3, 7]\n",
          "name": "stdout"
        }
      ]
    },
    {
      "metadata": {},
      "cell_type": "markdown",
      "source": "## The filter function"
    },
    {
      "metadata": {},
      "cell_type": "markdown",
      "source": "Filter is similar to map, in the sense we have a function which we can apply to elements of an iterator object, like a list. The function we apply however, must return a True or False result.\n\nFilter returns an iterator object that contains the elements which have the applied function return True.\n\nAs en example, we’ll use a function that returns True if a number is even and False otherwise. We’ll then apply the function to a list of numbers."
    },
    {
      "metadata": {
        "trusted": true
      },
      "cell_type": "code",
      "source": "def is_even(nr):\n    if nr % 2 == 0:\n        return True\n    else:\n        return False",
      "execution_count": 6,
      "outputs": []
    },
    {
      "metadata": {
        "trusted": true
      },
      "cell_type": "code",
      "source": "numbers = [2, 5, 6, 7, 13, 18, 20]\n\neven_numbers = list(filter(is_even,numbers))\n\nprint(even_numbers)",
      "execution_count": 7,
      "outputs": [
        {
          "output_type": "stream",
          "text": "[2, 6, 18, 20]\n",
          "name": "stdout"
        }
      ]
    },
    {
      "metadata": {},
      "cell_type": "markdown",
      "source": "## Lambda functions\n\nIf we look at the function above, we notice the first thing we did was to give it a name “is_even”. We did so with all functions so far, all of them being “named” functions, since they all have a name.\n\nBy contrast, Lambda functions are functions that don’t have a name, they are “anonymous functions”. **These functions must contain a single statement.**\n\nLambda functions are natural pairs of map and filter.\n\nLet’s transform the named is_even function above into a lambda function.\n"
    },
    {
      "metadata": {
        "trusted": true
      },
      "cell_type": "code",
      "source": "def is_even(nr):\n    if nr % 2 == 0:\n        return True\n    else:\n        return False",
      "execution_count": 9,
      "outputs": []
    },
    {
      "metadata": {},
      "cell_type": "markdown",
      "source": "We can rewrite this function like so:"
    },
    {
      "metadata": {
        "trusted": true
      },
      "cell_type": "code",
      "source": "def is_even(nr):\n    return nr % 2 == 0",
      "execution_count": 10,
      "outputs": []
    },
    {
      "metadata": {},
      "cell_type": "markdown",
      "source": "This returns the same result, but it’s much briefer than before. With the function in this form, we are on step away from lambda:"
    },
    {
      "metadata": {
        "trusted": true
      },
      "cell_type": "code",
      "source": "lambda nr: nr % 2 == 0",
      "execution_count": 11,
      "outputs": [
        {
          "output_type": "execute_result",
          "execution_count": 11,
          "data": {
            "text/plain": "<function __main__.<lambda>(nr)>"
          },
          "metadata": {}
        }
      ]
    },
    {
      "metadata": {},
      "cell_type": "markdown",
      "source": "which shows that lambda is a function.\n\nLet’s use lambda inside filter:"
    },
    {
      "metadata": {
        "trusted": true
      },
      "cell_type": "code",
      "source": "filter(lambda nr: nr % 2 == 0, numbers)",
      "execution_count": 12,
      "outputs": [
        {
          "output_type": "execute_result",
          "execution_count": 12,
          "data": {
            "text/plain": "<filter at 0x7f75f0936a58>"
          },
          "metadata": {}
        }
      ]
    },
    {
      "metadata": {},
      "cell_type": "markdown",
      "source": "Let’s transform into list and print the result."
    },
    {
      "metadata": {
        "trusted": true
      },
      "cell_type": "code",
      "source": "even_numbers = list(filter(lambda nr: nr % 2 == 0, numbers))\n\nprint(even_numbers)",
      "execution_count": 8,
      "outputs": [
        {
          "output_type": "stream",
          "text": "[2, 6, 18, 20]\n",
          "name": "stdout"
        }
      ]
    },
    {
      "metadata": {},
      "cell_type": "markdown",
      "source": "We accomplished so much in a single line of code. This is one of the great aspects of Python!"
    },
    {
      "metadata": {},
      "cell_type": "markdown",
      "source": "Of course, we can do a lambda for the square function as well."
    },
    {
      "metadata": {
        "trusted": true
      },
      "cell_type": "code",
      "source": "lambda nr: nr**2",
      "execution_count": 14,
      "outputs": [
        {
          "output_type": "execute_result",
          "execution_count": 14,
          "data": {
            "text/plain": "<function __main__.<lambda>(nr)>"
          },
          "metadata": {}
        }
      ]
    },
    {
      "metadata": {},
      "cell_type": "markdown",
      "source": "And map it in our list of numbers."
    },
    {
      "metadata": {
        "trusted": true
      },
      "cell_type": "code",
      "source": "numbers = [2, 5, 6, 7, 13, 18, 20]\n\nmap(lambda nr: nr**2, numbers)",
      "execution_count": 15,
      "outputs": [
        {
          "output_type": "execute_result",
          "execution_count": 15,
          "data": {
            "text/plain": "<map at 0x7f75f0936d68>"
          },
          "metadata": {}
        }
      ]
    },
    {
      "metadata": {},
      "cell_type": "markdown",
      "source": "We'll create a list of squared numbers and print it."
    },
    {
      "metadata": {
        "trusted": true
      },
      "cell_type": "code",
      "source": "squared_numbers = list(map(lambda nr: nr**2, numbers))\n\nprint(squared_numbers)",
      "execution_count": 16,
      "outputs": [
        {
          "output_type": "stream",
          "text": "[4, 25, 36, 49, 169, 324, 400]\n",
          "name": "stdout"
        }
      ]
    },
    {
      "metadata": {},
      "cell_type": "markdown",
      "source": "We are not restricted to using a single argument. We can make a lambda function for adding two numbers:"
    },
    {
      "metadata": {
        "trusted": true
      },
      "cell_type": "code",
      "source": "lambda x,y: x+y",
      "execution_count": 19,
      "outputs": [
        {
          "output_type": "execute_result",
          "execution_count": 19,
          "data": {
            "text/plain": "<function __main__.<lambda>(x, y)>"
          },
          "metadata": {}
        }
      ]
    },
    {
      "metadata": {
        "trusted": true
      },
      "cell_type": "code",
      "source": "",
      "execution_count": null,
      "outputs": []
    }
  ],
  "metadata": {
    "kernelspec": {
      "name": "python36",
      "display_name": "Python 3.6",
      "language": "python"
    },
    "language_info": {
      "mimetype": "text/x-python",
      "nbconvert_exporter": "python",
      "name": "python",
      "pygments_lexer": "ipython3",
      "version": "3.6.6",
      "file_extension": ".py",
      "codemirror_mode": {
        "version": 3,
        "name": "ipython"
      }
    }
  },
  "nbformat": 4,
  "nbformat_minor": 2
}