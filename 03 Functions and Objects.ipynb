{
 "cells": [
  {
   "cell_type": "markdown",
   "metadata": {
    "collapsed": true
   },
   "source": [
    "# Functions"
   ]
  },
  {
   "cell_type": "markdown",
   "metadata": {},
   "source": [
    "Functions are named after their mathematical counterpart, because its principle is the same: take some input, perform operations and output a new value.\n",
    "\n",
    "“Programming” functions take a set of parameters (can also be with no parameters), execute the statements inside and return something (a data type, an object or even another function).\n",
    "\n",
    "More importantly, functions are like building blocks of programming, because they allow the reuse of their code.\n",
    "\n",
    "A Python function is defined with the def keyword. We also need to specify a function name and optionally some parameters:\n"
   ]
  },
  {
   "cell_type": "code",
   "execution_count": 1,
   "metadata": {},
   "outputs": [],
   "source": [
    "def function_name(parameter1, parameter2):\n",
    "    # some code here\n",
    "    pass"
   ]
  },
  {
   "cell_type": "markdown",
   "metadata": {},
   "source": [
    "Parameters go inside the brackets after the name. As with if, for or while statements, the code block inside the function must be appropriately indented.\n",
    "\n",
    "To run a function, we call its name and provide the necessary parameters (if there are any)."
   ]
  },
  {
   "cell_type": "code",
   "execution_count": 2,
   "metadata": {},
   "outputs": [],
   "source": [
    "def hello_world():\n",
    "    print(\"Hello World\")"
   ]
  },
  {
   "cell_type": "code",
   "execution_count": 3,
   "metadata": {},
   "outputs": [
    {
     "name": "stdout",
     "output_type": "stream",
     "text": [
      "Hello World\n",
      "Hello World\n"
     ]
    }
   ],
   "source": [
    "hello_world()\n",
    "hello_world()"
   ]
  },
  {
   "cell_type": "markdown",
   "metadata": {},
   "source": [
    "## A more complex example\n",
    "\n",
    "Let’s say we have 3 integer variables a, b, c and we want to check if they are even numbers. Without using functions we would write something like this."
   ]
  },
  {
   "cell_type": "code",
   "execution_count": 4,
   "metadata": {},
   "outputs": [
    {
     "name": "stdout",
     "output_type": "stream",
     "text": [
      "3 is odd\n",
      "4 is even\n",
      "5 is odd\n"
     ]
    }
   ],
   "source": [
    "a = 3\n",
    "b = 4\n",
    "c = 5\n",
    "\n",
    "if a % 2 == 0:\n",
    "    print('{} is even'.format(a))\n",
    "else:\n",
    "    print('{} is odd'.format(a))\n",
    "\n",
    "if b % 2 == 0:\n",
    "    print('{} is even'.format(b))\n",
    "else:\n",
    "    print('{} is odd'.format(b))\n",
    "    \n",
    "if c % 2 == 0:\n",
    "    print('{} is even'.format(c))\n",
    "else:\n",
    "    print('{} is odd'.format(c))"
   ]
  },
  {
   "cell_type": "markdown",
   "metadata": {},
   "source": [
    "You can see it’s relatively long and a lot of code is just repeated for each variable.\n",
    "\n",
    "Now let’s do it using functions."
   ]
  },
  {
   "cell_type": "code",
   "execution_count": 5,
   "metadata": {},
   "outputs": [
    {
     "name": "stdout",
     "output_type": "stream",
     "text": [
      "3 is odd\n",
      "4 is even\n",
      "5 is odd\n"
     ]
    }
   ],
   "source": [
    "a = 3\n",
    "b = 4\n",
    "c = 5\n",
    "\n",
    "def is_even(nr):\n",
    "    if nr % 2 == 0:\n",
    "        print('{} is even'.format(nr))\n",
    "    else:\n",
    "        print('{} is odd'.format(nr))\n",
    "        \n",
    "is_even(a)\n",
    "is_even(b)\n",
    "is_even(c)"
   ]
  },
  {
   "cell_type": "markdown",
   "metadata": {},
   "source": [
    "The second code is much shorter and we can reuse it for many other variables by just calling the function again and send the parameter we want to check.\n",
    "\n",
    "Hopefully this example shows how useful and important functions are. To learn more about functions check the two videos below.\n",
    "\n",
    "https://www.youtube.com/watch?v=K7ITBnN6FSg&list=PLtb2Lf-cJ_AWhtJE6Rb5oWf02RC2qVU-J&index=31\n",
    "\n",
    "https://www.youtube.com/watch?v=bK5RJUpGWAc&list=PLQVvvaa0QuDdFqJtqsyeEewqVm_7VRrlD&index=11\n",
    "\n",
    "Both youtubers have great Python channels. If you are a beginner, I suggest checking out the entire playlists the two videos are part of and consider subscribing to these channels."
   ]
  },
  {
   "cell_type": "markdown",
   "metadata": {},
   "source": [
    "## Named parameters\n",
    "\n",
    "So far we’ve seen functions with parameters that are sent directly. When having three parameters in a function, the order they are transmitted matters.\n",
    "\n",
    "Let’s consider a function that displays a student’s name, grades and average."
   ]
  },
  {
   "cell_type": "code",
   "execution_count": 6,
   "metadata": {},
   "outputs": [],
   "source": [
    "def display_info(name, grades):\n",
    "    print(\"Name: {}; Grades: {}\".format(name, grades))"
   ]
  },
  {
   "cell_type": "code",
   "execution_count": 7,
   "metadata": {},
   "outputs": [
    {
     "name": "stdout",
     "output_type": "stream",
     "text": [
      "Name: John Doe; Grades: [10, 6, 7]\n"
     ]
    }
   ],
   "source": [
    "display_info(\"John Doe\", [10,6,7])"
   ]
  },
  {
   "cell_type": "code",
   "execution_count": 8,
   "metadata": {},
   "outputs": [
    {
     "name": "stdout",
     "output_type": "stream",
     "text": [
      "Name: [8, 10, 8]; Grades: Jane Doe\n"
     ]
    }
   ],
   "source": [
    "display_info([8,10,8], \"Jane Doe\")"
   ]
  },
  {
   "cell_type": "code",
   "execution_count": 9,
   "metadata": {},
   "outputs": [
    {
     "name": "stdout",
     "output_type": "stream",
     "text": [
      "Name: Jane Doe; Grades: [8, 10, 8]\n"
     ]
    }
   ],
   "source": [
    "display_info(grades=[8,10,8], name=\"Jane Doe\")"
   ]
  },
  {
   "cell_type": "markdown",
   "metadata": {},
   "source": [
    "## Default values\n",
    "\n",
    "When defining a function we can specify default values for parameters. If we do, that parameter is optional. The function can be called without that parameter, in which case it will take the default value.\n",
    "\n",
    "Let’s consider a function that raises one number to a power. The first argument is the number and the second is the power it should be raised at. It will have a default value of 2."
   ]
  },
  {
   "cell_type": "code",
   "execution_count": 10,
   "metadata": {},
   "outputs": [],
   "source": [
    "def raise_power(nr, pwr=2):\n",
    "    return pow(nr, pwr)"
   ]
  },
  {
   "cell_type": "markdown",
   "metadata": {},
   "source": [
    "If we call the function with a single parameter (nr), it will always return its square."
   ]
  },
  {
   "cell_type": "code",
   "execution_count": 11,
   "metadata": {},
   "outputs": [
    {
     "name": "stdout",
     "output_type": "stream",
     "text": [
      "25\n"
     ]
    }
   ],
   "source": [
    "print(raise_power(5))"
   ]
  },
  {
   "cell_type": "markdown",
   "metadata": {},
   "source": [
    "If we add the second parameter as well, the function will use its value for the power the number should be at."
   ]
  },
  {
   "cell_type": "code",
   "execution_count": 12,
   "metadata": {},
   "outputs": [
    {
     "name": "stdout",
     "output_type": "stream",
     "text": [
      "625\n"
     ]
    }
   ],
   "source": [
    "print(raise_power(5,4))"
   ]
  },
  {
   "cell_type": "markdown",
   "metadata": {},
   "source": [
    "# Objects"
   ]
  },
  {
   "cell_type": "markdown",
   "metadata": {},
   "source": [
    "Objects and Objects Oriented Programming (OOP) is a huge topic, which can’t possibly be covered in a single article. Like with other concepts, the aim is to explain the basic principle of how they work so we can confidently work with objects provided by libraries we’ll use in the future.\n",
    "\n",
    "It can be easier to think about objects in programming like abstractisations of real-life objects. A car for example, has a number of attributes, such as:\n",
    "- Brand\n",
    "- Model\n",
    "- Color\n",
    "- If it’s convertible\n",
    "- etc.\n",
    "\n",
    "Attributes are variables which hold values that describe the object.\n",
    "\n",
    "\n",
    "A series of actions can be performed with a car, the most basic ones being:\n",
    "- Turn engine on/off\n",
    "- Accelerate\n",
    "- Break\n",
    "\n",
    "The actions that an object can perform are coded through functions inside the object. Such a function is a method.\n",
    "\n",
    "**Values** that describe the object are stored in variables inside the object and are its **attributes**.\n",
    "\n",
    "**Actions** the object can perform are coded in functions inside the object and are its **methods**."
   ]
  },
  {
   "cell_type": "markdown",
   "metadata": {},
   "source": [
    "## Creating a car object\n",
    "\n",
    "In Python object are created using the class keyword. Class names should always be capitalised.\n",
    "\n",
    "Defining an object is like creating a blueprint. With this blueprint we can create specific instances of the class. From the Car blueprint we can create specific cars (Tesla or Honda Civic).\n",
    "\n",
    "Let’s define our object.\n"
   ]
  },
  {
   "cell_type": "code",
   "execution_count": 13,
   "metadata": {},
   "outputs": [],
   "source": [
    "class Car(object):\n",
    "    def __init__(self, brand_att, model_att, color_att):\n",
    "        self.brand = brand_att\n",
    "        self.model = model_att\n",
    "        self.color = color_att"
   ]
  },
  {
   "cell_type": "markdown",
   "metadata": {},
   "source": [
    "That can look a bit confusing, so let’s take it step by step…\n",
    "1. We defined a new object with the name Car, using the class keyword\n",
    "2. __init__ is a special method that is always called when a Car object is created. What we want to do in __init__ is place the values we send in object attributes\n",
    "3. The __init__ method has the following parameters: brand_att, model_att, color_att.\n",
    "4. The parameters’ values are placed in the brand, model and color object attributes. This is done using the self keyword. Self always refers to the object itself.\n",
    "\n",
    "Let’s create a car using this “blueprint”. Let’s say we want to have a white Tesla Model 3. Just like any other value, we want to store this in a variable so we can access it later.\n"
   ]
  },
  {
   "cell_type": "code",
   "execution_count": 14,
   "metadata": {},
   "outputs": [],
   "source": [
    "my_tesla = Car(\"Tesla\", \"Model 3\", \"white\")"
   ]
  },
  {
   "cell_type": "markdown",
   "metadata": {},
   "source": [
    "Now that we have our object, we can access its attributes using dot(“.”)"
   ]
  },
  {
   "cell_type": "code",
   "execution_count": 15,
   "metadata": {},
   "outputs": [
    {
     "name": "stdout",
     "output_type": "stream",
     "text": [
      "Tesla\n",
      "Model 3\n",
      "white\n"
     ]
    }
   ],
   "source": [
    "print(my_tesla.brand)\n",
    "print(my_tesla.model)\n",
    "print(my_tesla.color)"
   ]
  },
  {
   "cell_type": "markdown",
   "metadata": {},
   "source": [
    "Let's do another one"
   ]
  },
  {
   "cell_type": "code",
   "execution_count": 16,
   "metadata": {},
   "outputs": [],
   "source": [
    "my_honda = Car(\"Honda\", \"Civic\", \"red\")"
   ]
  },
  {
   "cell_type": "code",
   "execution_count": 17,
   "metadata": {},
   "outputs": [
    {
     "name": "stdout",
     "output_type": "stream",
     "text": [
      "Honda\n",
      "Civic\n",
      "red\n"
     ]
    }
   ],
   "source": [
    "print(my_honda.brand)\n",
    "print(my_honda.model)\n",
    "print(my_honda.color)"
   ]
  },
  {
   "cell_type": "markdown",
   "metadata": {},
   "source": [
    "We have two cars and we can access their brand, model and color attributes, but they don’t do that much… It’d be great if we could turn them on and drive a little :)"
   ]
  },
  {
   "cell_type": "markdown",
   "metadata": {},
   "source": [
    "## Creating the first Car object methods\n",
    "\n",
    "Methods are implementation of what an object “does”.\n",
    "\n",
    "The first should be turning and engine on and off. To do this we first need a new attribute which represents the engine status. The class definition must be adjusted."
   ]
  },
  {
   "cell_type": "code",
   "execution_count": 18,
   "metadata": {},
   "outputs": [],
   "source": [
    "class Car(object):\n",
    "    def __init__(self, brand_att, model_att, color_att):\n",
    "        self.brand = brand_att\n",
    "        self.model = model_att\n",
    "        self.color = color_att\n",
    "        self.engine_on = False"
   ]
  },
  {
   "cell_type": "markdown",
   "metadata": {},
   "source": [
    "We added a new attribute engine_on and set it to False. We don’t need a new parameter in the __init__ function.\n",
    "\n",
    "The turn engine on method should change the engine_on to True if it’s False. Turn engine off method will do the exact opposite. Let’s code the two functions into the object."
   ]
  },
  {
   "cell_type": "code",
   "execution_count": 19,
   "metadata": {},
   "outputs": [],
   "source": [
    "class Car(object):\n",
    "    def __init__(self, brand_att, model_att, color_att):\n",
    "        self.brand = brand_att\n",
    "        self.model = model_att\n",
    "        self.color = color_att\n",
    "        self.engine_on = False\n",
    "    \n",
    "    def turn_engine_on(self):\n",
    "        if self.engine_on is False:\n",
    "            self.engine_on = True\n",
    "    \n",
    "    def turn_engine_off(self):\n",
    "        if self.engine_on is True:\n",
    "            self.engine_on = False"
   ]
  },
  {
   "cell_type": "markdown",
   "metadata": {},
   "source": [
    "We can access the object’s attributes (and other methods) inside a method definition by using the **self** keyword. So in the turn_engine_on method we first check if the engine_on attribute is False and if it is, we set it to True. We reverse the process in the turn_engine_off method.\n",
    "\n",
    "Let’s test the new methods. Since we change the Car object, we need to create our cars again so they include the changes."
   ]
  },
  {
   "cell_type": "code",
   "execution_count": 24,
   "metadata": {},
   "outputs": [],
   "source": [
    "my_tesla = Car(\"Tesla\", \"Model 3\", \"white\")"
   ]
  },
  {
   "cell_type": "code",
   "execution_count": 25,
   "metadata": {},
   "outputs": [
    {
     "name": "stdout",
     "output_type": "stream",
     "text": [
      "False\n"
     ]
    }
   ],
   "source": [
    "print(my_tesla.engine_on)"
   ]
  },
  {
   "cell_type": "code",
   "execution_count": 26,
   "metadata": {},
   "outputs": [
    {
     "name": "stdout",
     "output_type": "stream",
     "text": [
      "True\n"
     ]
    }
   ],
   "source": [
    "my_tesla.turn_engine_on()\n",
    "print(my_tesla.engine_on)"
   ]
  },
  {
   "cell_type": "code",
   "execution_count": 27,
   "metadata": {},
   "outputs": [
    {
     "name": "stdout",
     "output_type": "stream",
     "text": [
      "False\n"
     ]
    }
   ],
   "source": [
    "my_tesla.turn_engine_off()\n",
    "print(my_tesla.engine_on)"
   ]
  },
  {
   "cell_type": "markdown",
   "metadata": {},
   "source": [
    "## Accelerate and Break methods\n",
    "\n",
    "We can turn the engine on and off, so the next step is to move around a bit. With accelerating and braking methods we could do some drag racing… \n",
    "\n",
    "First we need a new attribute, speed. We can set that to 0 by default in the __init__ function. We also need acceleration. Each car has different acceleration capabilities, so we might want to send its value."
   ]
  },
  {
   "cell_type": "code",
   "execution_count": 28,
   "metadata": {},
   "outputs": [],
   "source": [
    "class Car(object):\n",
    "    def __init__(self, brand_att, model_att, color_att, acc_att = 10):\n",
    "        self.brand = brand_att\n",
    "        self.model = model_att\n",
    "        self.color = color_att\n",
    "        self.engine_on = False\n",
    "        self.speed = 0\n",
    "        self.acc = acc_att"
   ]
  },
  {
   "cell_type": "markdown",
   "metadata": {},
   "source": [
    "To accelerate the car, each time we call the accelerate method we’ll increase the speed by the acc value. We’ll do the reverse for braking and pretend it makes sense…"
   ]
  },
  {
   "cell_type": "code",
   "execution_count": 29,
   "metadata": {},
   "outputs": [],
   "source": [
    "class Car(object):\n",
    "    def __init__(self, brand_att, model_att, color_att, acc_att = 10):\n",
    "        self.brand = brand_att\n",
    "        self.model = model_att\n",
    "        self.color = color_att\n",
    "        self.engine_on = False\n",
    "        self.speed = 0\n",
    "        self.acc = acc_att\n",
    "        \n",
    "    def turn_engine_on(self):\n",
    "        if self.engine_on is False:\n",
    "            self.engine_on = True\n",
    "    \n",
    "    def turn_engine_off(self):\n",
    "        if self.engine_on is True:\n",
    "            self.engine_on = False\n",
    "        \n",
    "    def accelerate(self):\n",
    "        if self.engine_on is True:\n",
    "            self.speed = self.speed + self.acc\n",
    "        print(\"Speed increased to {}\".format(self.speed))\n",
    "        \n",
    "    def brake(self):\n",
    "        if self.speed > 0:\n",
    "            self.speed = self.speed - self.acc\n",
    "        print(\"Speed decreased to {}\".format(self.speed))"
   ]
  },
  {
   "cell_type": "code",
   "execution_count": 30,
   "metadata": {},
   "outputs": [
    {
     "name": "stdout",
     "output_type": "stream",
     "text": [
      "Speed increased to 10\n",
      "Speed increased to 20\n",
      "Speed increased to 30\n",
      "Speed decreased to 20\n",
      "Speed decreased to 10\n",
      "Speed decreased to 0\n"
     ]
    }
   ],
   "source": [
    "my_tesla = Car(\"Tesla\", \"Model 3\", \"white\")\n",
    "my_tesla.turn_engine_on()\n",
    "my_tesla.accelerate()\n",
    "my_tesla.accelerate()\n",
    "my_tesla.accelerate()\n",
    "my_tesla.brake()\n",
    "my_tesla.brake()\n",
    "my_tesla.brake()\n",
    "my_tesla.turn_engine_off()"
   ]
  },
  {
   "cell_type": "markdown",
   "metadata": {},
   "source": [
    "## Inheritance\n",
    "\n",
    "Inheritance allows the creation of new classes by using old classes. The new class has all the attributes and methods of the old class, plus any new ones that are added to it.\n",
    "\n",
    "Let’s create a simple Animal class first."
   ]
  },
  {
   "cell_type": "code",
   "execution_count": 31,
   "metadata": {},
   "outputs": [],
   "source": [
    "class Animal(object):\n",
    "    def __init__(self):\n",
    "        print(\"This is an Animal\")\n",
    "        \n",
    "    def eat(self):\n",
    "        print(\"I've eaten!\")"
   ]
  },
  {
   "cell_type": "markdown",
   "metadata": {},
   "source": [
    "Great, we’ve established that all animals eat. Now we can create a Dog class and have it bark."
   ]
  },
  {
   "cell_type": "code",
   "execution_count": 32,
   "metadata": {},
   "outputs": [],
   "source": [
    "class Dog(Animal):\n",
    "    def __init__(self):\n",
    "        Animal.__init__(self)\n",
    "        print(\"This is a Dog!\")\n",
    "        \n",
    "    def bark(self):\n",
    "        print(\"BARK!\")"
   ]
  },
  {
   "cell_type": "code",
   "execution_count": 33,
   "metadata": {},
   "outputs": [
    {
     "name": "stdout",
     "output_type": "stream",
     "text": [
      "This is an Animal\n",
      "This is a Dog!\n"
     ]
    }
   ],
   "source": [
    "my_dog = Dog()"
   ]
  },
  {
   "cell_type": "code",
   "execution_count": 34,
   "metadata": {},
   "outputs": [
    {
     "name": "stdout",
     "output_type": "stream",
     "text": [
      "BARK!\n"
     ]
    }
   ],
   "source": [
    "my_dog.bark()"
   ]
  },
  {
   "cell_type": "markdown",
   "metadata": {},
   "source": [
    "We now have confirmation that the original class must be instantiated first in the derived class __init__.\n",
    "\n",
    "Inheritance is a technique that allows code reuse."
   ]
  },
  {
   "cell_type": "markdown",
   "metadata": {},
   "source": [
    "## Polymorphism\n",
    "\n",
    "Polymorphism is a way for different objects to share the names of methods. Each method has a separate implementation in each object, but the name is the same.\n",
    "\n",
    "This can be used in certain context to create code code that is easy to read. Let’s see an example of two classes Dog and Cat that both have a method called eat. Since dogs and cats don’t eat the same things, it’s natural that the two differ."
   ]
  },
  {
   "cell_type": "code",
   "execution_count": 35,
   "metadata": {},
   "outputs": [],
   "source": [
    "class Dog(object):\n",
    "    def __init__(self):\n",
    "        print(\"I am a dog\")\n",
    "        \n",
    "    def eat(self):\n",
    "        print(\"I eat dog food\")\n",
    "        \n",
    "class Cat(object):\n",
    "    def __init__(self):\n",
    "        print(\"I am a cat\")\n",
    "        \n",
    "    def eat(self):\n",
    "        print(\"I eat cat food\")"
   ]
  },
  {
   "cell_type": "code",
   "execution_count": 36,
   "metadata": {},
   "outputs": [
    {
     "name": "stdout",
     "output_type": "stream",
     "text": [
      "I am a dog\n",
      "I am a cat\n",
      "I eat dog food\n",
      "I eat cat food\n"
     ]
    }
   ],
   "source": [
    "my_dog = Dog()\n",
    "my_cat = Cat()\n",
    "\n",
    "my_dog.eat()\n",
    "my_cat.eat()"
   ]
  },
  {
   "cell_type": "markdown",
   "metadata": {},
   "source": [
    "Each pet eats the appropriate food. No fights! Both classes have the eat method, each behaving differently.\n",
    "\n",
    "One advantage of polymorphism is we can easily iterate through different objects and call methods that share name."
   ]
  },
  {
   "cell_type": "code",
   "execution_count": 37,
   "metadata": {},
   "outputs": [
    {
     "name": "stdout",
     "output_type": "stream",
     "text": [
      "I eat dog food\n",
      "I eat cat food\n"
     ]
    }
   ],
   "source": [
    "for pet in [my_dog, my_cat]:\n",
    "    pet.eat()"
   ]
  },
  {
   "cell_type": "markdown",
   "metadata": {},
   "source": [
    "To give another example, imagine a list of different geometrical shapes (square, circle, sphere, cube, triangle etc.), iterating through this list and calling the area() method which calculates the area of the shape.\n",
    "\n",
    "While each a different implementation since each shape has a different area calculation algorithm, the area() method has the same name for all geometric shapes."
   ]
  },
  {
   "cell_type": "code",
   "execution_count": null,
   "metadata": {},
   "outputs": [],
   "source": []
  }
 ],
 "metadata": {
  "kernelspec": {
   "display_name": "Python [conda env:Anaconda3]",
   "language": "python",
   "name": "conda-env-Anaconda3-py"
  },
  "language_info": {
   "codemirror_mode": {
    "name": "ipython",
    "version": 3
   },
   "file_extension": ".py",
   "mimetype": "text/x-python",
   "name": "python",
   "nbconvert_exporter": "python",
   "pygments_lexer": "ipython3",
   "version": "3.6.5"
  }
 },
 "nbformat": 4,
 "nbformat_minor": 2
}
